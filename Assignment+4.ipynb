{
 "cells": [
  {
   "cell_type": "markdown",
   "metadata": {},
   "source": [
    "---\n",
    "\n",
    "_You are currently looking at **version 1.1** of this notebook. To download notebooks and datafiles, as well as get help on Jupyter notebooks in the Coursera platform, visit the [Jupyter Notebook FAQ](https://www.coursera.org/learn/python-data-analysis/resources/0dhYG) course resource._\n",
    "\n",
    "---"
   ]
  },
  {
   "cell_type": "code",
   "execution_count": 1,
   "metadata": {
    "collapsed": true
   },
   "outputs": [],
   "source": [
    "import pandas as pd\n",
    "import numpy as np\n",
    "from scipy.stats import ttest_ind"
   ]
  },
  {
   "cell_type": "markdown",
   "metadata": {},
   "source": [
    "# Assignment 4 - Hypothesis Testing\n",
    "This assignment requires more individual learning than previous assignments - you are encouraged to check out the [pandas documentation](http://pandas.pydata.org/pandas-docs/stable/) to find functions or methods you might not have used yet, or ask questions on [Stack Overflow](http://stackoverflow.com/) and tag them as pandas and python related. And of course, the discussion forums are open for interaction with your peers and the course staff.\n",
    "\n",
    "Definitions:\n",
    "* A _quarter_ is a specific three month period, Q1 is January through March, Q2 is April through June, Q3 is July through September, Q4 is October through December.\n",
    "* A _recession_ is defined as starting with two consecutive quarters of GDP decline, and ending with two consecutive quarters of GDP growth.\n",
    "* A _recession bottom_ is the quarter within a recession which had the lowest GDP.\n",
    "* A _university town_ is a city which has a high percentage of university students compared to the total population of the city.\n",
    "\n",
    "**Hypothesis**: University towns have their mean housing prices less effected by recessions. Run a t-test to compare the ratio of the mean price of houses in university towns the quarter before the recession starts compared to the recession bottom. (`price_ratio=quarter_before_recession/recession_bottom`)\n",
    "\n",
    "The following data files are available for this assignment:\n",
    "* From the [Zillow research data site](http://www.zillow.com/research/data/) there is housing data for the United States. In particular the datafile for [all homes at a city level](http://files.zillowstatic.com/research/public/City/City_Zhvi_AllHomes.csv), ```City_Zhvi_AllHomes.csv```, has median home sale prices at a fine grained level.\n",
    "* From the Wikipedia page on college towns is a list of [university towns in the United States](https://en.wikipedia.org/wiki/List_of_college_towns#College_towns_in_the_United_States) which has been copy and pasted into the file ```university_towns.txt```.\n",
    "* From Bureau of Economic Analysis, US Department of Commerce, the [GDP over time](http://www.bea.gov/national/index.htm#gdp) of the United States in current dollars (use the chained value in 2009 dollars), in quarterly intervals, in the file ```gdplev.xls```. For this assignment, only look at GDP data from the first quarter of 2000 onward.\n",
    "\n",
    "Each function in this assignment below is worth 10%, with the exception of ```run_ttest()```, which is worth 50%."
   ]
  },
  {
   "cell_type": "code",
   "execution_count": 2,
   "metadata": {
    "collapsed": false
   },
   "outputs": [],
   "source": [
    "# Use this dictionary to map state names to two letter acronyms\n",
    "states = {'OH': 'Ohio', 'KY': 'Kentucky', 'AS': 'American Samoa', 'NV': 'Nevada', 'WY': 'Wyoming', 'NA': 'National', 'AL': 'Alabama', 'MD': 'Maryland', 'AK': 'Alaska', 'UT': 'Utah', 'OR': 'Oregon', 'MT': 'Montana', 'IL': 'Illinois', 'TN': 'Tennessee', 'DC': 'District of Columbia', 'VT': 'Vermont', 'ID': 'Idaho', 'AR': 'Arkansas', 'ME': 'Maine', 'WA': 'Washington', 'HI': 'Hawaii', 'WI': 'Wisconsin', 'MI': 'Michigan', 'IN': 'Indiana', 'NJ': 'New Jersey', 'AZ': 'Arizona', 'GU': 'Guam', 'MS': 'Mississippi', 'PR': 'Puerto Rico', 'NC': 'North Carolina', 'TX': 'Texas', 'SD': 'South Dakota', 'MP': 'Northern Mariana Islands', 'IA': 'Iowa', 'MO': 'Missouri', 'CT': 'Connecticut', 'WV': 'West Virginia', 'SC': 'South Carolina', 'LA': 'Louisiana', 'KS': 'Kansas', 'NY': 'New York', 'NE': 'Nebraska', 'OK': 'Oklahoma', 'FL': 'Florida', 'CA': 'California', 'CO': 'Colorado', 'PA': 'Pennsylvania', 'DE': 'Delaware', 'NM': 'New Mexico', 'RI': 'Rhode Island', 'MN': 'Minnesota', 'VI': 'Virgin Islands', 'NH': 'New Hampshire', 'MA': 'Massachusetts', 'GA': 'Georgia', 'ND': 'North Dakota', 'VA': 'Virginia'}"
   ]
  },
  {
   "cell_type": "code",
   "execution_count": 3,
   "metadata": {
    "collapsed": false
   },
   "outputs": [],
   "source": [
    "def get_list_of_university_towns():\n",
    "    '''Returns a DataFrame of towns and the states they are in from the \n",
    "    university_towns.txt list. The format of the DataFrame should be:\n",
    "    DataFrame( [ [\"Michigan\", \"Ann Arbor\"], [\"Michigan\", \"Yipsilanti\"] ], \n",
    "    columns=[\"State\", \"RegionName\"]  )\n",
    "    \n",
    "    The following cleaning needs to be done:\n",
    "\n",
    "    1. For \"State\", removing characters from \"[\" to the end.\n",
    "    2. For \"RegionName\", when applicable, removing every character from \" (\" to the end.\n",
    "    3. Depending on how you read the data, you may need to remove newline character '\\n'. '''\n",
    "    #u_town = pd.read_\n",
    "    #test_df = pd.DataFrame( [ [\"Michigan\", \"Ann Arbor\"], [\"Michigan\", \"Yipsilanti\"] ], \n",
    "    #columns=[\"State\", \"RegionName\"]  )\n",
    "    \n",
    "    ## open university_towns.txt\n",
    "    ut_file = open('university_towns.txt', 'r')\n",
    "    ut_text = ut_file.readlines()\n",
    "    states_towns = []\n",
    "    for line in ut_text:\n",
    "        if \"[edit]\" in line:\n",
    "            state_name = line.split(\"[\")[0]\n",
    "        else:\n",
    "            states_towns.append([state_name, line.split(\"(\")[0].strip()])\n",
    "    \n",
    "    ut_df = pd.DataFrame( states_towns, columns=[\"State\", \"RegionName\"]  )\n",
    "    return ut_df\n"
   ]
  },
  {
   "cell_type": "code",
   "execution_count": 4,
   "metadata": {
    "collapsed": false
   },
   "outputs": [],
   "source": [
    "def get_recession_start():\n",
    "    '''Returns the year and quarter of the recession start time as a \n",
    "    string value in a format such as 2005q3'''\n",
    "    # skip rows until we get to 2000q1 - orginally was skiprows=7 to get to quarter values\n",
    "    gdp = pd.read_excel('gdplev.xls', skiprows=219, index_col=None, names=None, parse_cols=[4,6], parse_dates=False)\n",
    "    gdp.columns = ['Quarter', 'GDP in billions of chained 2009 dollars']\n",
    "    gdp = gdp.set_index('Quarter')\n",
    "    #recession_start_qtr = None\n",
    "    one_qtr_ago = 0\n",
    "    one_qtr_ago_index = None\n",
    "    two_qtr_ago = 0\n",
    "    two_qtr_ago_index = None\n",
    "    \n",
    "    \n",
    "    for index, row in gdp.iterrows():\n",
    "        #print(row['GDP in billions of chained 2009 dollars'])\n",
    "\n",
    "        if (row['GDP in billions of chained 2009 dollars'] < one_qtr_ago) and (one_qtr_ago < two_qtr_ago):\n",
    "            return one_qtr_ago_index\n",
    "\n",
    "        else:\n",
    "            two_qtr_ago = one_qtr_ago\n",
    "            two_qtr_ago_index = one_qtr_ago_index\n",
    "            one_qtr_ago = row['GDP in billions of chained 2009 dollars']\n",
    "            one_qtr_ago_index = index\n",
    "\n",
    "\n",
    "    return None\n",
    "\n"
   ]
  },
  {
   "cell_type": "code",
   "execution_count": 5,
   "metadata": {
    "collapsed": false
   },
   "outputs": [],
   "source": [
    "def get_recession_end():\n",
    "    '''Returns the year and quarter of the recession end time as a \n",
    "    string value in a format such as 2005q3'''\n",
    "    recession_start = get_recession_start()\n",
    "    \n",
    "    gdp = pd.read_excel('gdplev.xls', skiprows=219, index_col=None, names=None, parse_cols=[4,6], parse_dates=False)\n",
    "    gdp.columns = ['Quarter', 'GDP in billions of chained 2009 dollars']\n",
    "    gdp = gdp.set_index('Quarter')\n",
    "    one_qtr_ago = 0\n",
    "    one_qtr_ago_index = None\n",
    "    two_qtr_ago = 0\n",
    "    two_qtr_ago_index = None\n",
    "    \n",
    "    # get index location of recession_start\n",
    "    rs_loc = gdp.index.get_loc(recession_start)\n",
    "    #print(rs_loc)\n",
    "    # drop records before recession_start \n",
    "    gdp = gdp.drop(gdp.index[0:rs_loc])\n",
    "    #print(gdp)\n",
    "       \n",
    "    for index, row in gdp.iterrows():\n",
    "        #print(row['GDP in billions of chained 2009 dollars'])\n",
    "\n",
    "        if (row['GDP in billions of chained 2009 dollars'] > one_qtr_ago) and (one_qtr_ago > two_qtr_ago):\n",
    "            return index\n",
    "\n",
    "        else:\n",
    "            two_qtr_ago = one_qtr_ago\n",
    "            two_qtr_ago_index = one_qtr_ago_index\n",
    "            one_qtr_ago = row['GDP in billions of chained 2009 dollars']\n",
    "            one_qtr_ago_index = index\n",
    "\n",
    "\n",
    "    return None\n",
    "\n"
   ]
  },
  {
   "cell_type": "code",
   "execution_count": 6,
   "metadata": {
    "collapsed": false
   },
   "outputs": [],
   "source": [
    "def get_recession_bottom():\n",
    "    '''Returns the year and quarter of the recession bottom time as a \n",
    "    string value in a format such as 2005q3'''\n",
    "    gdp = pd.read_excel('gdplev.xls', skiprows=219, index_col=None, names=None, parse_cols=[4,6], parse_dates=False)\n",
    "    gdp.columns = ['Quarter', 'GDP in billions of chained 2009 dollars']\n",
    "    gdp = gdp.set_index('Quarter')\n",
    "    \n",
    "    # get index values of recession_start and recession_end and drop rows that are outside of this \n",
    "    recession_start = get_recession_start()\n",
    "    recession_end = get_recession_end()\n",
    "    \n",
    "    rs_loc = gdp.index.get_loc(recession_start)\n",
    "    re_loc = gdp.index.get_loc(recession_end)\n",
    "    \n",
    "    gdp = gdp.drop(gdp.index[re_loc + 1:])\n",
    "    gdp = gdp.drop(gdp.index[0:rs_loc])\n",
    "    \n",
    "    \n",
    "    \n",
    "    return gdp['GDP in billions of chained 2009 dollars'].idxmin()\n"
   ]
  },
  {
   "cell_type": "code",
   "execution_count": 7,
   "metadata": {
    "collapsed": false
   },
   "outputs": [],
   "source": [
    "def convert_housing_data_to_quarters():\n",
    "    '''Converts the housing data to quarters and returns it as mean \n",
    "    values in a dataframe. This dataframe should be a dataframe with\n",
    "    columns for 2000q1 through 2016q3, and should have a multi-index\n",
    "    in the shape of [\"State\",\"RegionName\"].\n",
    "    \n",
    "    Note: Quarters are defined in the assignment description, they are\n",
    "    not arbitrary three month periods.\n",
    "    \n",
    "    The resulting dataframe should have 67 columns, and 10,730 rows.\n",
    "    '''\n",
    "    housing = pd.read_csv('City_Zhvi_AllHomes.csv')\n",
    "    #print(housing)\n",
    "    housing = housing.drop(housing.columns[range(6,51)], axis=1)\n",
    "    #print(housing)\n",
    "    \n",
    "    # build list of quarter beginnings \n",
    "    months = housing.columns.values\n",
    "    months = months[6:] # remove non-monthly periods\n",
    "    quarter_begin = months[0::3] # use numpy slicing \n",
    "    \n",
    "    # build list of column names with regular list\n",
    "    column_names = []\n",
    "    for month in quarter_begin:\n",
    "        year = month.split('-')[0]\n",
    "        if month.split('-')[1] == '01':\n",
    "            quarter = 'q1'\n",
    "        elif month.split('-')[1] == '04':\n",
    "            quarter = 'q2'\n",
    "        elif month.split('-')[1] == '07':\n",
    "            quarter = 'q3'\n",
    "        else:\n",
    "            quarter = 'q4'\n",
    "        column_names.append(year + quarter)\n",
    "        \n",
    "    # create series for column_names\n",
    "    columns = pd.Series(column_names, index=quarter_begin)\n",
    "    \n",
    "    # build new df and begin populating  \n",
    "    target_housing = housing.copy(deep=True)\n",
    "    target_housing = target_housing.drop(target_housing.columns[6:], axis=1)\n",
    "    \n",
    "    for start_month, quarter in columns.iteritems():\n",
    "        pos = housing.columns.get_loc(start_month)\n",
    "        data = housing.iloc[:, pos:pos+3]\n",
    "        target_housing[quarter] = data.mean(axis=1)\n",
    "    # .loc['2001-01']\n",
    "    \n",
    "    # change 'State' from abbreviation to full name, and set index \n",
    "    target_housing['State'] = [states[state] for state in target_housing['State']]\n",
    "    target_housing.set_index([\"State\", \"RegionName\"], inplace =True)\n",
    "    \n",
    "    # remove unneeded data\n",
    "    target_housing = target_housing.drop(target_housing.columns[0:4], axis=1)\n",
    "    \n",
    "    return target_housing\n",
    "    #return housing\n",
    "\n",
    "#convert_housing_data_to_quarters()\n",
    "#convert_housing_data_to_quarters().loc[\"Texas\"].loc[\"Austin\"].loc[\"2010q3\"]"
   ]
  },
  {
   "cell_type": "code",
   "execution_count": 8,
   "metadata": {
    "collapsed": false
   },
   "outputs": [
    {
     "data": {
      "text/plain": [
       "(True, 0.0027240637047531249, 'university town')"
      ]
     },
     "execution_count": 8,
     "metadata": {},
     "output_type": "execute_result"
    }
   ],
   "source": [
    "def run_ttest():\n",
    "    '''First creates new data showing the decline or growth of housing prices\n",
    "    between the recession start and the recession bottom. Then runs a ttest\n",
    "    comparing the university town values to the non-university towns values, \n",
    "    return whether the alternative hypothesis (that the two groups are the same)\n",
    "    is true or not as well as the p-value of the confidence. \n",
    "    \n",
    "    Return the tuple (different, p, better) where different=True if the t-test is\n",
    "    True at a p<0.01 (we reject the null hypothesis), or different=False if \n",
    "    otherwise (we cannot reject the null hypothesis). The variable p should\n",
    "    be equal to the exact p value returned from scipy.stats.ttest_ind(). The\n",
    "    value for better should be either \"university town\" or \"non-university town\"\n",
    "    depending on which has a lower mean price ratio (which is equivilent to a\n",
    "    reduced market loss).'''\n",
    "    \n",
    "    hdf = convert_housing_data_to_quarters()\n",
    "    ul = get_list_of_university_towns()\n",
    "    r_start = get_recession_start()\n",
    "    #print(r_start)\n",
    "    r_bottom = get_recession_bottom()\n",
    "    #print(hdf.columns.get_loc(r_start))\n",
    "    \n",
    "    # remove data after r_bottom from hdf\n",
    "    #hdf = hdf.drop(hdf.columns[hdf.columns.get_loc(r_bottom)+1:], axis=1)\n",
    "    #hdf = hdf.drop(hdf.columns[0 : hdf.columns.get_loc(r_start)], axis=1)\n",
    "    hdf['PriceRatio'] = hdf.iloc[:, hdf.columns.get_loc(r_start) - 1].divide(hdf['2009q2']) # calculate pricing difference\n",
    "    hdf = hdf.reset_index()    \n",
    "    \n",
    "    # create university towns df\n",
    "    #udf = hdf.merge(ul, how=\"inner\", on=[\"State\", \"RegionName\"])#left_on=[\"State\", \"RegionName\"], right_on=[\"State\", \"RegionName\"])\n",
    "    udf = pd.merge(ul, hdf, how=\"inner\", left_on=[\"RegionName\", \"State\"], right_on=[\"RegionName\", \"State\"])\n",
    "    #udf = pd.merge(ul, hdf, how=\"left\", left_on=[\"RegionName\", \"State\"], right_on=[\"RegionName\", \"State\"])\n",
    "    # create non-university towns df\n",
    "    keys = ['State', 'RegionName']\n",
    "    i1 = hdf.set_index(keys).index\n",
    "    i2 = udf.set_index(keys).index\n",
    "    ndf = hdf[~i1.isin(i2)]\n",
    "    ndf = ndf.reset_index()\n",
    "    ndf = ndf.drop(ndf.columns[0], axis=1)\n",
    "    \n",
    "    st,p = ttest_ind(udf['PriceRatio'], ndf['PriceRatio'], nan_policy='omit')\n",
    "    \n",
    "    if p < 0.01:\n",
    "        return True, p, \"university town\"\n",
    "    \n",
    "    else:\n",
    "        return False, p, \"university town\"\n",
    "    \n",
    "\n",
    "run_ttest()"
   ]
  },
  {
   "cell_type": "code",
   "execution_count": null,
   "metadata": {
    "collapsed": true
   },
   "outputs": [],
   "source": []
  },
  {
   "cell_type": "code",
   "execution_count": null,
   "metadata": {
    "collapsed": true
   },
   "outputs": [],
   "source": []
  }
 ],
 "metadata": {
  "coursera": {
   "course_slug": "python-data-analysis",
   "graded_item_id": "Il9Fx",
   "launcher_item_id": "TeDW0",
   "part_id": "WGlun"
  },
  "kernelspec": {
   "display_name": "Python 3",
   "language": "python",
   "name": "python3"
  },
  "language_info": {
   "codemirror_mode": {
    "name": "ipython",
    "version": 3
   },
   "file_extension": ".py",
   "mimetype": "text/x-python",
   "name": "python",
   "nbconvert_exporter": "python",
   "pygments_lexer": "ipython3",
   "version": "3.5.2"
  }
 },
 "nbformat": 4,
 "nbformat_minor": 0
}
